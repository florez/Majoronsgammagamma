{
 "cells": [
  {
   "cell_type": "code",
   "execution_count": 1,
   "id": "ef7c4151",
   "metadata": {},
   "outputs": [],
   "source": [
    "#This notebook will give a brief intro on how to import and plot data from a given csv dataframe using pandas.\n",
    "import numpy as np\n",
    "import matplotlib.pyplot as plt\n",
    "import pandas as pd"
   ]
  },
  {
   "cell_type": "code",
   "execution_count": 2,
   "id": "e940d3f6",
   "metadata": {},
   "outputs": [
    {
     "name": "stdout",
     "output_type": "stream",
     "text": [
      "                      0                     1\n",
      "0   0,05938611837802488   0,11428057553956839\n",
      "1   0,17489470241988214   0,11805755395683493\n",
      "2    0,2904135873119684   0,12636690647482052\n",
      "3   0,40593590582079786   0,13618705035971246\n",
      "4    0,5214607995421845   0,14714028776978472\n",
      "5    0,6369891268803138   0,15960431654676333\n",
      "6    0,7525208878351863   0,17357913669064784\n",
      "7    0,8680535071942443   0,18793165467625927\n",
      "8    0,9835904185742312   0,20417266187050398\n",
      "9    1,0991281883584039   0,22079136690647516\n",
      "10   1,2146685333551335   0,23854316546762666\n",
      "11     1,33020973675605   0,25667266187050375\n",
      "12   1,4457543737737084    0,2763129496402881\n",
      "13   1,5613007275997384    0,2967086330935258\n",
      "14   1,6768479398299538      0,31748201438849\n",
      "15   1,7923968688685412    0,3390107913669067\n",
      "16   1,9079492315238715    0,3620503597122302\n",
      "17    2,023500735775016    0,3847122302158277\n",
      "18    2,139053956834532    0,4081294964028781\n",
      "19   2,2546097531066054    0,4326798561151084\n",
      "20   2,3701664077828646   0,45760791366906517\n",
      "21    2,485724779267495   0,48329136690647534\n",
      "22    2,601284009156311     0,509352517985612\n",
      "23   2,7168449558534986    0,5361690647482018\n",
      "24   2,8324059025506862    0,5629856115107919\n",
      "25   2,9479702828646173    0,5913129496402882\n",
      "26    3,063533804774362    0,6192625899280579\n",
      "27   3,1791007603008503    0,6487230215827342\n",
      "28    3,294667715827338    0,6781834532374105\n",
      "29   3,4102372465663833    0,7087769784172666\n",
      "30   3,5258059189012427     0,738992805755396\n",
      "31   3,6413754496402873    0,7695863309352522\n",
      "32   3,7569466971877037    0,8009352517985615\n",
      "33    3,872520519947678    0,8334172661870507\n",
      "34   3,9880934843034654    0,8655215827338134\n",
      "35    4,103669023871811    0,8987589928057558\n",
      "36   4,2192445634401565    0,9319964028776984\n",
      "37    4,334821819816874    0,9659892086330939\n",
      "38    4,450399934597776    1,0003597122302161\n",
      "39     4,56597976618705    1,0354856115107918\n",
      "40   4,6815595977763245    1,0706115107913672\n",
      "41    4,797139429365599    1,1057374100719428\n",
      "42    4,912723552975802    1,1427517985611515\n",
      "43    5,028305959777633    1,1790107913669068\n",
      "44    5,143889224983649    1,2156474820143888\n",
      "45    5,259474206998037    1,2530395683453242\n",
      "46    5,375060047416612    1,2908093525179858\n",
      "47    5,490646746239372    1,3289568345323743\n",
      "48    5,606235161870503     1,367859712230216\n",
      "49    5,721823577501635     1,406762589928058\n",
      "50    5,837413709941137     1,446420863309353\n",
      "51    5,953002983976454    1,4857014388489214\n",
      "52    6,068595691628515     1,526492805755396\n",
      "53    6,184186682472204    1,5665287769784177\n",
      "54   6,2997802485284495     1,607697841726619\n",
      "55   6,4153746729888805    1,6492446043165472\n",
      "56    6,478040753760627    1,5023201438848925\n",
      "57    6,488934189012426    1,6754316546762593\n"
     ]
    }
   ],
   "source": [
    "#The first thing to do is to know the address of the folder where the dataframe is located. Given that we use the read_csv function as shown \n",
    "\n",
    "dataframe=pd.read_csv('/home/UANDES/ga.ardila10/Documentos/Manuales/Dataset 0.csv', sep=';', header=None)\n",
    "print(dataframe)\n"
   ]
  },
  {
   "cell_type": "code",
   "execution_count": 3,
   "id": "2a1ac429",
   "metadata": {},
   "outputs": [],
   "source": [
    "#Now, we convert the data to numpy arrays \n",
    "dataframe=dataframe.to_numpy()\n"
   ]
  },
  {
   "cell_type": "code",
   "execution_count": 4,
   "id": "0df50b09",
   "metadata": {},
   "outputs": [],
   "source": [
    "#get rid of the dots\n",
    "for i in range(58):\n",
    "    for j in range(2):\n",
    "        dataframe[i][j]=dataframe[i][j].replace(',','.')"
   ]
  },
  {
   "cell_type": "code",
   "execution_count": 5,
   "id": "d05e5156",
   "metadata": {},
   "outputs": [],
   "source": [
    "#now, we convert all the information to floats\n",
    "for i in range (57):\n",
    "    for j in range(2):\n",
    "        dataframe[i][j]=float(dataframe[i][j])"
   ]
  },
  {
   "cell_type": "code",
   "execution_count": 6,
   "id": "b679787f",
   "metadata": {},
   "outputs": [],
   "source": [
    "#given all this information we can then define the x and y axis for the ṕlot\n",
    "x_axis=dataframe[:,0]\n",
    "y_axis=dataframe[:,1]"
   ]
  },
  {
   "cell_type": "code",
   "execution_count": 7,
   "id": "c3da0f1f",
   "metadata": {},
   "outputs": [
    {
     "data": {
      "text/plain": [
       "[<matplotlib.lines.Line2D at 0x7f0da07ae1f0>]"
      ]
     },
     "execution_count": 7,
     "metadata": {},
     "output_type": "execute_result"
    },
    {
     "data": {
      "image/png": "[encoded data removed]",
      "text/plain": [
       "<Figure size 432x288 with 1 Axes>"
      ]
     },
     "metadata": {
      "needs_background": "light"
     },
     "output_type": "display_data"
    }
   ],
   "source": [
    "#plot the data using matplotlib as usual\n",
    "plt.plot(x_axis,y_axis)\n",
    "plt.xlabel('x axis info')\n",
    "plt.ylabel('y label info')\n",
    "plt.title('test plot')\n",
    "plt.legend('')"
   ]
  },
  {
   "cell_type": "code",
   "execution_count": null,
   "id": "9b65da6e",
   "metadata": {},
   "outputs": [],
   "source": []
  }
 ],
 "metadata": {
  "kernelspec": {
   "display_name": "Python 3",
   "language": "python",
   "name": "python3"
  },
  "language_info": {
   "codemirror_mode": {
    "name": "ipython",
    "version": 3
   },
   "file_extension": ".py",
   "mimetype": "text/x-python",
   "name": "python",
   "nbconvert_exporter": "python",
   "pygments_lexer": "ipython3",
   "version": "3.8.10"
  }
 },
 "nbformat": 4,
 "nbformat_minor": 5
}
