{
 "cells": [
  {
   "cell_type": "code",
   "execution_count": 1,
   "metadata": {},
   "outputs": [],
   "source": [
    "import numpy as np\n",
    "import matplotlib.pyplot as plt\n",
    "import pandas as pd\n",
    "\n",
    "import nbimporter\n",
    "\n",
    "#from Suavizado_de_mapas_de_calor import suavizar\n",
    "import seaborn as sns"
   ]
  },
  {
   "cell_type": "code",
   "execution_count": 2,
   "metadata": {},
   "outputs": [],
   "source": [
    "#define constantes esenciales\n",
    "alfa=1/137\n",
    "b=1/(8*(np.pi**3))\n",
    "vevsm=246"
   ]
  },
  {
   "cell_type": "code",
   "execution_count": 3,
   "metadata": {},
   "outputs": [],
   "source": [
    "#masas de fermiones en GeV\n",
    "\n",
    "\n",
    "me=0.000510998\n",
    "mmu=0.105658375\n",
    "mta=1.77686\n",
    "\n",
    "mup=0.0022\n",
    "mch=1.275\n",
    "mtp=172.76\n",
    "\n",
    "\n",
    "mdo=0.0047\n",
    "mst=0.095\n",
    "mbo=4.18\n",
    "\n",
    "mfermions=np.array([me,mmu,mta,mup,mch,mtp, mdo,mst,mbo])\n",
    "mleptons=mfermions[0:3]"
   ]
  },
  {
   "cell_type": "code",
   "execution_count": 4,
   "metadata": {},
   "outputs": [],
   "source": [
    "#factores de color, cargas e isospin debil\n",
    "carga=np.array([-1,-1,-1,2/3,2/3,2/3,-1/3,-1/3,-1/3])\n",
    "color=np.array([1,1,1,3,3,3,3,3,3])\n",
    "isospin=np.array([-1/2,-1/2,-1/2,1/2,1/2,1/2, -1/2,-1/2,-1/2])"
   ]
  },
  {
   "cell_type": "code",
   "execution_count": 5,
   "metadata": {},
   "outputs": [],
   "source": [
    "#diagonal\n",
    "mdmdee=10000\n",
    "traces=[1.26,50,1400]"
   ]
  },
  {
   "cell_type": "code",
   "execution_count": 6,
   "metadata": {},
   "outputs": [],
   "source": [
    "def logaritmo(x):\n",
    "    for i in range(np.size(x)):\n",
    "        if(x[i]>0):\n",
    "            return np.log(x[i])\n",
    "        elif(x[i]<0):\n",
    "            return np.log((np.abs(x[i])))+np.pi*complex(0,1)\n",
    "def raiz(x):\n",
    "    for i in range(np.size(x)):\n",
    "        if(x[i]>=0):\n",
    "            return np.sqrt(x[i])\n",
    "        elif(x[i]<0):\n",
    "            return np.sqrt(np.abs(x[i]))*complex(0,1)"
   ]
  },
  {
   "cell_type": "code",
   "execution_count": 7,
   "metadata": {},
   "outputs": [],
   "source": [
    "def log(x):\n",
    "    if(x>0):\n",
    "        return np.log(x)\n",
    "    elif(x<0):\n",
    "        return np.log(np.abs(x)) + np.pi*complex(0,1)\n",
    "\n",
    "def sqrt(x):\n",
    "    if(x>=0):\n",
    "        return np.sqrt(x)\n",
    "    elif(x<0):\n",
    "        return np.sqrt(np.abs(x))*complex(0,1)"
   ]
  },
  {
   "cell_type": "code",
   "execution_count": 8,
   "metadata": {},
   "outputs": [],
   "source": [
    "def funcionh(m1,m2):\n",
    "    x=(m1**2)/(4*m2**2)\n",
    "    h=-(1/(4*x))*((log(1-(2*x)))+2*sqrt(x*(x-1)))**2-1\n",
    "    #print(type(-((((1/(4*x))*(log(1-(2*x)))+2*sqrt(x*(x-1))))**2)-1))\n",
    "    return h"
   ]
  },
  {
   "cell_type": "code",
   "execution_count": 9,
   "metadata": {},
   "outputs": [],
   "source": [
    "def funcionhnueva(m1,m2):\n",
    "    x=(m1**2)/(4*m2**2)\n",
    "    h=-(1/(4*x))*((logaritmo(1-(2*x)))+2*raiz(x*(x-1)))**2-1\n",
    "    #print(type(-((((1/(4*x))*(log(1-(2*x)))+2*sqrt(x*(x-1))))**2)-1))\n",
    "    return h"
   ]
  },
  {
   "cell_type": "code",
   "execution_count": 10,
   "metadata": {},
   "outputs": [],
   "source": [
    "def calculoacoples(masaj,masafermion,vevs,trazas,diagonal):\n",
    "    g1=(alfa*b)/(vevs*(vevsm**2))*trazas*((color[0]*(carga[0]**2)*isospin[0])*funcionhnueva(masaj,masafermion[0])+(color[1]*(carga[1]**2)*isospin[1])*funcionhnueva(masaj,masafermion[1])+(color[2]*(carga[2]**2)*isospin[2])*funcionhnueva(masaj,masafermion[2])+(color[3]*(carga[3]**2)*isospin[3])*funcionhnueva(masaj,masafermion[3])+(color[4]*(carga[4]**2)*isospin[4])*funcionhnueva(masaj,masafermion[4])+(color[5]*(carga[5]**2)*isospin[5])*funcionhnueva(masaj,masafermion[5])+(color[6]*(carga[6]**2)*isospin[6])*funcionhnueva(masaj,masafermion[6])+(color[7]*(carga[7]**2)*isospin[7])*funcionhnueva(masaj,masafermion[7])+(color[8]*(carga[8]**2)*isospin[8])*funcionhnueva(masaj,masafermion[8]))+(alfa*b)/(vevs*(vevsm**2))*((diagonal*funcionhnueva(masaj,mleptons[0]))+(diagonal*funcionhnueva(masaj,mleptons[1]))+(diagonal*funcionhnueva(masaj,mleptons[2])))\n",
    "    return g1"
   ]
  },
  {
   "cell_type": "code",
   "execution_count": 11,
   "metadata": {},
   "outputs": [],
   "source": [
    "!rm -rf f_EXCEL\n",
    "!rm -rf Tr_EXCEL\n",
    "!rm -rf M_EXCEL\n",
    "!rm -rf fbajamasa_EXCEL\n",
    "\n",
    "!mkdir -p f_EXCEL\n",
    "!mkdir -p Tr_EXCEL\n",
    "!mkdir -p M_EXCEL\n",
    "!mkdir -p fbajamasa_EXCEL\n"
   ]
  },
  {
   "cell_type": "code",
   "execution_count": 12,
   "metadata": {},
   "outputs": [],
   "source": [
    "!rm -rf fshort_EXCEL\n",
    "!rm -rf Trshort_EXCEL\n",
    "\n",
    "!mkdir -p fshort_EXCEL\n",
    "!mkdir -p Trshort_EXCEL\n"
   ]
  },
  {
   "cell_type": "code",
   "execution_count": 14,
   "metadata": {},
   "outputs": [],
   "source": [
    "N = 20\n",
    "N1=100"
   ]
  },
  {
   "cell_type": "code",
   "execution_count": 13,
   "metadata": {},
   "outputs": [],
   "source": [
    "#trazas=np.linspace(0.3,1.5,N)\n",
    "#valores = np.linspace(1,50,N)\n",
    "#masas = np.linspace(0.0005,0.250,N)\n",
    "\n",
    "\n",
    "\n",
    "trazas=np.linspace(1.26,1400,N1)\n",
    "\n",
    "valores = np.linspace(50,1000,N1)\n",
    "#masas = np.linspace(0.250,80.0,N)\n",
    "masas=np.linspace(0.250,1400, N1)\n",
    "for k in range(len(valores)):\n",
    "    valor = np.array([valores[k]])\n",
    "    matriz = np.zeros([len(trazas),len(masas)])\n",
    "    for i in range(N1):\n",
    "        for j in range(N1):\n",
    "            masa = np.array([masas[j]])\n",
    "            #valor = np.array([valores[i]])\n",
    "            traza=np.array([trazas[i]])\n",
    "            acople=calculoacoples(masa,mfermions,valor,traza, mdmdee)\n",
    "            gamma=(np.abs(acople)**2)*(masa**3)/(64*np.pi)\n",
    "\n",
    "            matriz[i,j] = 1/gamma\n",
    "    matriz = pd.DataFrame(matriz)\n",
    "    matriz.columns = masas\n",
    "    matriz.index = trazas\n",
    "    matriz.to_excel(f\"f_EXCEL/f_{str(round(float(valor),2)).replace('.','_')}.xlsx\")"
   ]
  },
  {
   "cell_type": "code",
   "execution_count": 16,
   "metadata": {},
   "outputs": [],
   "source": [
    "edad=1E17\n",
    "masas=np.linspace(0.005,0.05, N1)\n",
    "trazas=np.linspace(1.26,1400,N1)\n",
    "#trazas=np.linspace(0.1,1400,N1)\n",
    "valores = np.linspace(50,1000,N1)\n",
    "\n",
    "\n",
    "\n",
    "#valores = np.linspace(50,1000,N)\n",
    "combinaciones=[]\n",
    "for k in range(len(valores)):\n",
    "    valor = np.array([valores[k]])\n",
    "    matriz = np.zeros([len(trazas),len(masas)])\n",
    "    for i in range(N1):\n",
    "        for j in range(N1):\n",
    "            masa = np.array([masas[j]])\n",
    "            #valor = np.array([valores[i]])\n",
    "            traza=np.array([trazas[i]])\n",
    "            acople=calculoacoples(masa,mfermions,valor,traza, mdmdee)\n",
    "            gamma=(np.abs(acople)**2)*(masa**3)/(64*np.pi)\n",
    "\n",
    "            matriz[i,j] = 1/gamma\n",
    "    matriz = pd.DataFrame(matriz)\n",
    "    matriz.columns = masas\n",
    "    matriz.index = trazas\n",
    "    matriz.to_excel(f\"fbajamasa_EXCEL/f_{str(round(float(valor),2)).replace('.','_')}.xlsx\")\n",
    "            #if (matriz[i,j]>= edad):\n",
    "             #   combinaciones.append(masa)\n",
    "        \n"
   ]
  },
  {
   "cell_type": "code",
   "execution_count": null,
   "metadata": {},
   "outputs": [],
   "source": [
    "len(combinaciones)"
   ]
  },
  {
   "cell_type": "code",
   "execution_count": null,
   "metadata": {},
   "outputs": [],
   "source": [
    "\n",
    "listamasas=[combinaciones[0]]\n",
    "for i in range(len(combinaciones)-1):\n",
    "    if(combinaciones[i] not in listamasas):\n",
    "        listamasas.append(combinaciones[i])\n",
    "print('el maximo valor de masa que da un lifetime como queremos , variando la traza y f en los valores previamente usados, es:'+str(listamasas[-1]))"
   ]
  },
  {
   "cell_type": "code",
   "execution_count": null,
   "metadata": {},
   "outputs": [],
   "source": [
    "edad=1E17\n",
    "\n",
    "\n",
    "masas=np.linspace(0.005,, N)\n",
    "#trazas=np.linspace(0.000000000000000000000001,0.00000000000000000000001,N)\n",
    "trazas=np.linspace(1.26,1400,N)\n",
    "valores = np.linspace(0.0050,0.01,N)\n",
    "\n",
    "\n",
    "\n",
    "#valores = np.linspace(50,1000,N)\n",
    "combinacionesvev=[]\n",
    "for k in range(len(valores)):\n",
    "    valor = np.array([valores[k]])\n",
    "    matriz = np.zeros([len(trazas),len(masas)])\n",
    "    for i in range(N):\n",
    "        for j in range(N):\n",
    "            masa = np.array([masas[j]])\n",
    "            #valor = np.array([valores[i]])\n",
    "            traza=np.array([trazas[i]])\n",
    "            acople=calculoacoples(masa,mfermions,valor,traza, mdmdee)\n",
    "            gamma=(np.abs(acople)**2)*(masa**3)/(64*np.pi)\n",
    "\n",
    "            matriz[i,j] = 1/gamma\n",
    "            if (matriz[i,j]>= edad):\n",
    "                combinacionesvev.append(valor)\n",
    "            "
   ]
  },
  {
   "cell_type": "code",
   "execution_count": null,
   "metadata": {},
   "outputs": [],
   "source": [
    "listavevs=[combinacionesvev[0]]\n",
    "for i in range(len(combinacionesvev)-1):\n",
    "    if(combinacionesvev[i] not in listavevs):\n",
    "        listavevs.append(combinacionesvev[i])\n",
    "print('el maximo valor de mf que da un lifetime como queremos , variando la traza y m en los valores previamente usados, es:'+str(listavevs[-1]))"
   ]
  },
  {
   "cell_type": "code",
   "execution_count": null,
   "metadata": {},
   "outputs": [],
   "source": [
    "combinaciones=[]\n",
    "for k in range(len(valores)):\n",
    "    valor = np.array([valores[k]])\n",
    "    matriz = np.zeros([len(trazas),len(masas)])\n",
    "    for i in range(N):\n",
    "        for j in range(N):\n",
    "            masa = np.array([masas[j]])\n",
    "            #valor = np.array([valores[i]])\n",
    "            traza=np.array([trazas[i]])\n",
    "            acople=calculoacoples(masa,mfermions,valor,traza, mdmdee)\n",
    "            gamma=(np.abs(acople)**2)*(masa**3)/(64*np.pi)\n",
    "\n",
    "            matriz[i,j] = 1/gamma\n",
    "            if (matriz[i,j]>= edad):\n",
    "                combinaciones.append(traza)"
   ]
  },
  {
   "cell_type": "code",
   "execution_count": null,
   "metadata": {},
   "outputs": [],
   "source": [
    "combinaciones\n",
    "print(\"No hay valores de traza para estos m y f\")"
   ]
  },
  {
   "cell_type": "code",
   "execution_count": null,
   "metadata": {},
   "outputs": [],
   "source": [
    "edad=1E17\n",
    "masas=np.linspace(0.005,0.05, N)\n",
    "trazas=np.linspace(1.26,1400,N)\n",
    "#trazas=np.linspace(0.1,1400,N)\n",
    "#valores = np.linspace(50,1000,N)\n",
    "valores = np.linspace(1,50,N)\n",
    "\n",
    "\n",
    "#valores = np.linspace(50,1000,N)\n",
    "combinaciones=[]\n",
    "for k in range(len(valores)):\n",
    "    valor = np.array([valores[k]])\n",
    "    matriz = np.zeros([len(trazas),len(masas)])\n",
    "    for i in range(N):\n",
    "        for j in range(N):\n",
    "            masa = np.array([masas[j]])\n",
    "            #valor = np.array([valores[i]])\n",
    "            traza=np.array([trazas[i]])\n",
    "            acople=calculoacoples(masa,mfermions,valor,traza, mdmdee)\n",
    "            gamma=(np.abs(acople)**2)*(masa**3)/(64*np.pi)\n",
    "\n",
    "            matriz[i,j] = 1/gamma\n",
    "            if (matriz[i,j]>= edad):\n",
    "                combinaciones.append([masa,valor])\n",
    "        "
   ]
  },
  {
   "cell_type": "code",
   "execution_count": null,
   "metadata": {},
   "outputs": [],
   "source": [
    "print(combinaciones[-1])"
   ]
  },
  {
   "cell_type": "code",
   "execution_count": null,
   "metadata": {},
   "outputs": [],
   "source": [
    "listas=[combinaciones[0]]\n",
    "for i in range(len(combinaciones)-1):\n",
    "        if(combinaciones[[i,]] not in listas[[i,]]):\n",
    "            listas.append(combinaciones[i])\n",
    "print('el maximo valor de masa  y f que da un lifetime como queremos , variando la traza en los valores previamente usados, es:'+str(listas[-1]))"
   ]
  },
  {
   "cell_type": "code",
   "execution_count": 17,
   "metadata": {},
   "outputs": [],
   "source": [
    "\n",
    "trazas=np.linspace(1.26,1400,N1)\n",
    "#valores = np.linspace(1,50,N)\n",
    "masas = np.linspace(0.005,0.05,N1)\n",
    "#trazas=np.linspace(1.26,1400,N)\n",
    "valores = np.linspace(50,1000,N1)\n",
    "#masas = np.linspace(0.250,80.0,N)\n",
    "vals=np.array([50,250,500,1000])\n",
    "\n",
    "for k in range(len(trazas)):\n",
    "    traza = np.array([trazas[k]])\n",
    "    matriz = np.zeros([len(valores),len(masas)])\n",
    "    for i in range(N1):\n",
    "        for j in range(N1):\n",
    "            masa = np.array([masas[j]])\n",
    "            valor = np.array([valores[i]])\n",
    "            #traza=np.array([trazas[i]])\n",
    "            acople=calculoacoples(masa,mfermions,valor,traza, mdmdee)\n",
    "            gamma=(np.abs(acople)**2)*(masa**3)/(64*np.pi)\n",
    "\n",
    "            matriz[i,j] = 1/gamma\n",
    "    matriz = pd.DataFrame(matriz)\n",
    "    matriz.columns = masas\n",
    "    matriz.index = valores\n",
    "    matriz.to_excel(f\"Tr_EXCEL/Tr_{str(round(float(traza),2)).replace('.','_')}.xlsx\")\n"
   ]
  },
  {
   "cell_type": "code",
   "execution_count": 20,
   "metadata": {},
   "outputs": [],
   "source": [
    "trazas=np.linspace(1.26,1400,N1)\n",
    "valores = np.linspace(50,1000,N1)\n",
    "masas = np.linspace(0.0005,0.05,N1)\n",
    "#trazas=np.linspace(1.26,1400,N)\n",
    "#valores = np.linspace(50,1000,N)\n",
    "#masas = np.linspace(0.250,80.0,N)\n",
    "vals=np.array([50,250,500,1000])\n",
    "\n",
    "for k in range(len(masas)):\n",
    "    masa = np.array([masas[k]])\n",
    "    matriz = np.zeros([len(valores),len(masas)])\n",
    "    for i in range(N1):\n",
    "        for j in range(N1):\n",
    "            #masa = np.array([masas[j]])\n",
    "            valor = np.array([valores[i]])\n",
    "            traza=np.array([trazas[i]])\n",
    "            acople=calculoacoples(masa,mfermions,valor,traza, mdmdee)\n",
    "            gamma=(np.abs(acople)**2)*(masa**3)/(64*np.pi)\n",
    "\n",
    "            matriz[i,j] = 1/gamma\n",
    "    matriz = pd.DataFrame(matriz)\n",
    "    matriz.columns = valores\n",
    "    matriz.index = trazas\n",
    "    matriz.to_excel(f\"M_EXCEL/M_{str(round(float(masa),2)).replace('.','_')}.xlsx\")"
   ]
  },
  {
   "cell_type": "code",
   "execution_count": null,
   "metadata": {},
   "outputs": [],
   "source": [
    "variable_1 = trazas\n",
    "variable_2 = valores\n",
    "variable_3 = masas\n",
    "\n",
    "columna_1 = []\n",
    "for i in range(len(variable_1)):\n",
    "    for j in range(len(variable_2)):\n",
    "        for k in range(len(variable_3)):\n",
    "            columna_1.append(variable_1[i])\n",
    "\n",
    "columna_2 = []\n",
    "for i in range(len(variable_1)):\n",
    "    for j in range(len(variable_2)):\n",
    "        for k in range(len(variable_3)):\n",
    "            columna_2.append(variable_2[j])\n",
    "\n",
    "columna_3 = []\n",
    "for i in range(len(variable_1)):\n",
    "    for j in range(len(variable_2)):\n",
    "        for k in range(len(variable_3)):\n",
    "            columna_3.append(variable_3[k]) \n",
    "            \n",
    "columna_4 = []\n",
    "\n",
    "for i in range(len(columna_1)):\n",
    "    acople= calculoacoples(np.array([columna_3[i]]),mfermions,np.array([columna_2[i]]),np.array([columna_1[i]]),mdmdee)\n",
    "    gamma= (np.abs(acople)**2)*(columna_3[i]**3)/(64*np.pi)\n",
    "    columna_4.append(1/gamma)\n",
    "    #print(f'Actual: i = {i}, Restantes: {len(columna_1) - i}') \n",
    "    \n",
    "matriz2 = np.zeros([len(variable_1)*len(variable_2)*len(variable_3),4])\n",
    "matriz2[:,0] = columna_1\n",
    "matriz2[:,1] = columna_2\n",
    "matriz2[:,2] = columna_3\n",
    "matriz2[:,3] = columna_4\n",
    "\n",
    "data=pd.DataFrame(matriz2)\n",
    "data.columns=[r'$Tr(M_DM_D^\\dagger)$', 'f', r'$M_J$',r'$\\tau$'] \n",
    "data.corr().to_latex('correlaciones.tex')"
   ]
  },
  {
   "cell_type": "code",
   "execution_count": 18,
   "metadata": {},
   "outputs": [],
   "source": [
    "trazas=np.linspace(1.26,1400,N1)\n",
    "\n",
    "valores = np.linspace(50,1000,N1)\n",
    "#masas = np.linspace(0.250,80.0,N)\n",
    "masas=np.linspace(0.250,30, N1)\n",
    "for k in range(len(valores)):\n",
    "    valor = np.array([valores[k]])\n",
    "    matriz = np.zeros([len(trazas),len(masas)])\n",
    "    for i in range(N1):\n",
    "        for j in range(N1):\n",
    "            masa = np.array([masas[j]])\n",
    "            #valor = np.array([valores[i]])\n",
    "            traza=np.array([trazas[i]])\n",
    "            acople=calculoacoples(masa,mfermions,valor,traza, mdmdee)\n",
    "            gamma=(np.abs(acople)**2)*(masa**3)/(64*np.pi)\n",
    "\n",
    "            matriz[i,j] = 1/gamma\n",
    "    matriz = pd.DataFrame(matriz)\n",
    "    matriz.columns = masas\n",
    "    matriz.index = trazas\n",
    "    matriz.to_excel(f\"fshort_EXCEL/f_{str(round(float(valor),2)).replace('.','_')}.xlsx\")"
   ]
  },
  {
   "cell_type": "code",
   "execution_count": 19,
   "metadata": {},
   "outputs": [],
   "source": [
    "trazas=np.linspace(1.26,1400,N1)\n",
    "#valores = np.linspace(1,50,N)\n",
    "masas = np.linspace(0.250,30,N1)\n",
    "#trazas=np.linspace(1.26,1400,N)\n",
    "valores = np.linspace(50,1000,N1)\n",
    "#masas = np.linspace(0.250,80.0,N)\n",
    "vals=np.array([50,250,500,1000])\n",
    "\n",
    "for k in range(len(trazas)):\n",
    "    traza = np.array([trazas[k]])\n",
    "    matriz = np.zeros([len(valores),len(masas)])\n",
    "    for i in range(N1):\n",
    "        for j in range(N1):\n",
    "            masa = np.array([masas[j]])\n",
    "            valor = np.array([valores[i]])\n",
    "            #traza=np.array([trazas[i]])\n",
    "            acople=calculoacoples(masa,mfermions,valor,traza, mdmdee)\n",
    "            gamma=(np.abs(acople)**2)*(masa**3)/(64*np.pi)\n",
    "\n",
    "            matriz[i,j] = 1/gamma\n",
    "    matriz = pd.DataFrame(matriz)\n",
    "    matriz.columns = masas\n",
    "    matriz.index = valores\n",
    "    matriz.to_excel(f\"Trshort_EXCEL/Trshort_{str(round(float(traza),2)).replace('.','_')}.xlsx\")"
   ]
  },
  {
   "cell_type": "code",
   "execution_count": null,
   "metadata": {},
   "outputs": [],
   "source": []
  }
 ],
 "metadata": {
  "kernelspec": {
   "display_name": "Python 3 (ipykernel)",
   "language": "python",
   "name": "python3"
  },
  "language_info": {
   "codemirror_mode": {
    "name": "ipython",
    "version": 3
   },
   "file_extension": ".py",
   "mimetype": "text/x-python",
   "name": "python",
   "nbconvert_exporter": "python",
   "pygments_lexer": "ipython3",
   "version": "3.9.4"
  }
 },
 "nbformat": 4,
 "nbformat_minor": 4
}
